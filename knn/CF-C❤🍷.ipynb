{
 "cells": [
  {
   "cell_type": "code",
   "execution_count": 205,
   "metadata": {},
   "outputs": [],
   "source": [
    "import math\n",
    "from math import sqrt\n",
    "from functools import reduce\n"
   ]
  },
  {
   "cell_type": "code",
   "execution_count": 196,
   "metadata": {},
   "outputs": [],
   "source": [
    "#Kernels\n",
    "def gaussian(x):\n",
    "    return math.exp(-(x**2)/2)/sqrt(2*math.pi)\n",
    "def uniform(x):\n",
    "    return 0 if abs(x) >= 1 else 0.5\n",
    "def triangular(x):\n",
    "    return 0 if abs(x) >= 1 else 1-abs(x)\n",
    "def epanechnikov(x):\n",
    "    return 0 if abs(x) >= 1 else 3/4*(1-x ** 2)\n",
    "def quartic(x):\n",
    "    return 0 if abs(x) >= 1 else 15/16*(1-x ** 2)** 2\n",
    "def triweight(x):\n",
    "    return 0 if abs(x) >= 1 else 35/32*(1-x ** 2)** 3\n",
    "def tricube(x):\n",
    "    return 0 if abs(x) >= 1 else 70/81*(1-(abs(x) ** 3))** 3\n",
    "def cosine(x):\n",
    "    return 0 if abs(x) >= 1 else (math.pi/4)*math.cos((math.pi/2)*x)\n",
    "def logistic(x):\n",
    "    return  1/(math.exp(x) +2.0 +math.exp(-x))\n",
    "def sigmoid(x):\n",
    "    return (2/math.pi) * 1/((math.exp(x)) + (math.exp(-x)))\n",
    "kernels = {'uniform':uniform, 'triangular':triangular, 'epanechnikov':epanechnikov, \n",
    "           'quartic':quartic, 'triweight':triweight, 'tricube':tricube, 'gaussian':gaussian, \n",
    "           'cosine':cosine, 'logistic':logistic, 'sigmoid':sigmoid}"
   ]
  },
  {
   "cell_type": "code",
   "execution_count": 197,
   "metadata": {},
   "outputs": [],
   "source": [
    "def manhattanDistance(X,Y):\n",
    "    p = 0\n",
    "    for x,y in zip(X,Y):\n",
    "        p += abs(x-y)\n",
    "    return p\n",
    "def euclideanDistance(X,Y):\n",
    "    p = 0\n",
    "    for x,y in zip(X,Y):\n",
    "        p += (x-y)**2\n",
    "    return sqrt(p)\n",
    "def chebyshevDistance(X,Y):\n",
    "    p = 0\n",
    "    for x,y in zip(X,Y):\n",
    "        p = max(p,(abs(x-y)))\n",
    "    return p\n",
    "distances = {'manhattan':manhattanDistance, 'euclidean':euclideanDistance, 'chebyshev':chebyshevDistance}"
   ]
  },
  {
   "cell_type": "code",
   "execution_count": 221,
   "metadata": {},
   "outputs": [],
   "source": [
    "def predict(xtr, ytr, test,K = gaussian, dist = manhattanDistance, h = 0):\n",
    "    a = 0.0\n",
    "    b = 0.0\n",
    "    for x,y in zip(xtr, ytr):\n",
    "        if(h<=0.1 and dist(x,test)<=0.1):\n",
    "            a+=y*float(K(0))\n",
    "            b+=float(K(0))\n",
    "        elif (h!=0):\n",
    "            a+=float(y)*float(K((dist(x,test))/h))\n",
    "            b+=float(K(dist(x,test)/h))\n",
    "    return sum(ytr)/len(ytr) if b == 0 else a/b\n",
    "    "
   ]
  },
  {
   "cell_type": "code",
   "execution_count": 201,
   "metadata": {
    "scrolled": false
   },
   "outputs": [
    {
     "name": "stdout",
     "output_type": "stream",
     "text": [
      "1 1\n",
      "1 1\n",
      "1\n",
      "euclidean\n",
      "uniform\n",
      "fixed\n",
      "1\n"
     ]
    }
   ],
   "source": [
    "n, m = [int(x) for x in input().strip().split(\" \")]\n",
    "xs = [[int(v) for v in input().strip().split(\" \")] for x in range(n)]\n",
    "q = [int(v) for v in input().strip().split(\" \")]\n",
    "ys = [x[-1] for x in xs]\n",
    "xs = [x[:-1] for x in xs]\n",
    "dist = distances[input().strip()]\n",
    "kernel = kernels[input().strip()]\n",
    "typeH = input().strip()\n",
    "num = int(input().strip())"
   ]
  },
  {
   "cell_type": "code",
   "execution_count": 202,
   "metadata": {},
   "outputs": [],
   "source": [
    "if (typeH == 'variable'):\n",
    "    dists = [dist(x,q) for x in xs]\n",
    "    dists.sort()\n",
    "    num = dists[int(num)]"
   ]
  },
  {
   "cell_type": "code",
   "execution_count": 215,
   "metadata": {},
   "outputs": [
    {
     "name": "stdout",
     "output_type": "stream",
     "text": [
      "1.0\n"
     ]
    }
   ],
   "source": [
    "print(float(predict(xs,ys,q, K = kernel, dist=dist, h = float(num))))"
   ]
  },
  {
   "cell_type": "code",
   "execution_count": 222,
   "metadata": {},
   "outputs": [
    {
     "data": {
      "text/plain": [
       "2.0"
      ]
     },
     "execution_count": 222,
     "metadata": {},
     "output_type": "execute_result"
    }
   ],
   "source": [
    "predict([[1],[45]],[1,2],[45])"
   ]
  },
  {
   "cell_type": "code",
   "execution_count": 224,
   "metadata": {},
   "outputs": [
    {
     "data": {
      "text/plain": [
       "10"
      ]
     },
     "execution_count": 224,
     "metadata": {},
     "output_type": "execute_result"
    }
   ],
   "source": [
    "sum([1,2,3,4])"
   ]
  },
  {
   "cell_type": "code",
   "execution_count": null,
   "metadata": {},
   "outputs": [],
   "source": []
  }
 ],
 "metadata": {
  "kernelspec": {
   "display_name": "Python 3",
   "language": "python",
   "name": "python3"
  },
  "language_info": {
   "codemirror_mode": {
    "name": "ipython",
    "version": 3
   },
   "file_extension": ".py",
   "mimetype": "text/x-python",
   "name": "python",
   "nbconvert_exporter": "python",
   "pygments_lexer": "ipython3",
   "version": "3.6.5"
  }
 },
 "nbformat": 4,
 "nbformat_minor": 2
}
